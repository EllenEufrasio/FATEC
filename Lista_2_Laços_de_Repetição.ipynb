{
  "cells": [
    {
      "cell_type": "markdown",
      "metadata": {
        "id": "view-in-github",
        "colab_type": "text"
      },
      "source": [
        "<a href=\"https://colab.research.google.com/github/EllenEufrasio/FATEC/blob/main/Lista_2_La%C3%A7os_de_Repeti%C3%A7%C3%A3o.ipynb\" target=\"_parent\"><img src=\"https://colab.research.google.com/assets/colab-badge.svg\" alt=\"Open In Colab\"/></a>"
      ]
    },
    {
      "cell_type": "markdown",
      "metadata": {
        "id": "4xtRGDIMbF0z"
      },
      "source": [
        "1- Faça um programa que peça uma nota, entre zero e dez. Mostre uma mensagem caso o valor seja inválido e continue pedindo até que o usuário informe um valor válido."
      ]
    },
    {
      "cell_type": "code",
      "execution_count": 3,
      "metadata": {
        "colab": {
          "base_uri": "https://localhost:8080/"
        },
        "id": "xTHRLJEr2rX3",
        "outputId": "66299741-fa60-44c4-ebd1-b20018a32d6c"
      },
      "outputs": [
        {
          "name": "stdout",
          "output_type": "stream",
          "text": [
            "\n",
            "Digite uma nota de 0 a 10: 11\n",
            "NOTA INVÁLIDA\n",
            "Digite uma nota de 0 a 10: -1\n"
          ]
        }
      ],
      "source": [
        "print()\n",
        "nota = float(input(\"Digite uma nota de 0 a 10: \"))\n",
        "while (nota>0 and nota>10):\n",
        "  nota = float(input(\"NOTA INVÁLIDA\" \"\\nDigite uma nota de 0 a 10: \"))\n",
        "\n"
      ]
    },
    {
      "cell_type": "code",
      "execution_count": null,
      "metadata": {
        "colab": {
          "background_save": true
        },
        "id": "BMPrVf0KwF-d"
      },
      "outputs": [],
      "source": [
        "while True:\n",
        "    nota = float(input(\"Digite uma nota de 0 a 10: \"))\n",
        "    if nota >= 0 and nota <= 10:\n",
        "        print(\"NOTA VÁLIDA:\", nota)\n",
        "        break\n",
        "    else:\n",
        "        print(\"NOTA INVÁLIDA\")"
      ]
    },
    {
      "cell_type": "markdown",
      "metadata": {
        "id": "RIejwl4mbK7z"
      },
      "source": [
        "2- Faça um programa que leia um nome de usuário e a sua senha e não aceite a senha igual ao nome do usuário, mostrando uma mensagem de erro e voltando a pedir as informações."
      ]
    },
    {
      "cell_type": "code",
      "execution_count": null,
      "metadata": {
        "colab": {
          "base_uri": "https://localhost:8080/"
        },
        "id": "QVwlvuQDbREK",
        "outputId": "e5b85c75-dfc0-4ace-8835-726df77b0276"
      },
      "outputs": [
        {
          "name": "stdout",
          "output_type": "stream",
          "text": [
            "\n",
            "-----CADASTRO DE SENHA-----\n",
            "\n",
            "Digite seu nome: ell\n",
            "Digite sua senha: ell\n",
            "\n",
            "Sua senha não pode ser o mesmo que seu nome\n",
            "Digite outra senha: d\n",
            "Senha cadastrada com sucesso\n"
          ]
        }
      ],
      "source": [
        "print()\n",
        "print(\"-----CADASTRO DE SENHA-----\")\n",
        "print()\n",
        "nome = input(\"Digite seu nome: \")\n",
        "senha = input(\"Digite sua senha: \")\n",
        "while senha == nome:\n",
        "  print(\"\\nSua senha não pode ser o mesmo que seu nome\")\n",
        "  senha = input(\"Digite outra senha: \")\n",
        "  print(\"Senha cadastrada com sucesso\")"
      ]
    },
    {
      "cell_type": "markdown",
      "metadata": {
        "id": "IjjosQBibRzj"
      },
      "source": [
        "3- Faça um programa que leia e valide as seguintes informações:\n",
        "*   Nome: maior que 3 caracteres;\n",
        "*   Idade: entre 0 e 150;\n",
        "*   Salário: maior que zero;\n",
        "*   Sexo: 'f' ou 'm';\n",
        "*   Estado Civil: 's', 'c', 'v', 'd';\n",
        "\n",
        "**Use a função `len(string)` para saber o tamanho de um texto (número de caracteres).**"
      ]
    },
    {
      "cell_type": "code",
      "execution_count": null,
      "metadata": {
        "id": "SZQsLLeMbtDS"
      },
      "outputs": [],
      "source": [
        "print()\n",
        "print(\"*****INFORMAÇÕES PESSOAIS*****\")\n",
        "print()\n",
        "nome = input(\"Digite seu nome: \")\n",
        "while True:\n",
        "  nome = input(\"Digite seu nome: \")\n",
        "  if len(nome)<3:\n",
        "    print(\"Nome não válido\")\n",
        "idade = int(input(\"Digite sua idade: \"))\n",
        "\n",
        "\n"
      ]
    },
    {
      "cell_type": "markdown",
      "metadata": {
        "id": "yzuu9ZKubt1L"
      },
      "source": [
        "4- Supondo que a população de um país A seja da ordem de 80000 habitantes com uma taxa anual de crescimento de 3% e que a população de B seja 200000 habitantes com uma taxa de crescimento de 1.5%. Faça um programa que calcule e escreva o número de anos necessários para que a população do país A ultrapasse ou iguale a população do país B, mantidas as taxas de crescimento."
      ]
    },
    {
      "cell_type": "code",
      "execution_count": null,
      "metadata": {
        "id": "n_mSFkoqbzhb"
      },
      "outputs": [],
      "source": [
        "# seu código aqui..."
      ]
    },
    {
      "cell_type": "markdown",
      "metadata": {
        "id": "6S1XgUIZb0ty"
      },
      "source": [
        "5- Altere o programa anterior permitindo ao usuário informar as populações e as taxas de crescimento iniciais. Valide a entrada e permita repetir a operação."
      ]
    },
    {
      "cell_type": "code",
      "execution_count": null,
      "metadata": {
        "id": "TdSmj33rcPLS"
      },
      "outputs": [],
      "source": [
        "# seu código aqui..."
      ]
    },
    {
      "cell_type": "markdown",
      "metadata": {
        "id": "h6Tf29KBcPxz"
      },
      "source": [
        "6- Faça um programa que leia 5 números e informe a soma e a média dos números."
      ]
    },
    {
      "cell_type": "code",
      "execution_count": null,
      "metadata": {
        "id": "bo9EBxbfcXr5"
      },
      "outputs": [],
      "source": [
        "# seu código aqui..."
      ]
    },
    {
      "cell_type": "markdown",
      "metadata": {
        "id": "vlg_Q0cGcYXS"
      },
      "source": [
        "7- Faça um programa que receba dois números inteiros e gere os números inteiros que estão no intervalo compreendido por eles."
      ]
    },
    {
      "cell_type": "code",
      "execution_count": null,
      "metadata": {
        "id": "QDjbRI91cdY6"
      },
      "outputs": [],
      "source": [
        "# seu código aqui..."
      ]
    },
    {
      "cell_type": "markdown",
      "metadata": {
        "id": "x19NxgY8cd-6"
      },
      "source": [
        "8- Altere o programa anterior para mostrar no final a soma dos números."
      ]
    },
    {
      "cell_type": "code",
      "execution_count": null,
      "metadata": {
        "id": "BAJ0KSvVciHy"
      },
      "outputs": [],
      "source": [
        "# seu código aqui..."
      ]
    },
    {
      "cell_type": "markdown",
      "metadata": {
        "id": "7RbW-aJeci3q"
      },
      "source": [
        "9- Faça um programa que peça para n pessoas a sua idade, ao final o programa devera verificar se a média de idade da turma varia entre 0 e 25,26 e 60 e maior que 60; e então, dizer se a turma é jovem, adulta ou idosa, conforme a média calculada."
      ]
    },
    {
      "cell_type": "code",
      "execution_count": null,
      "metadata": {
        "id": "wFZ0d96Wc0Oy"
      },
      "outputs": [],
      "source": [
        "# seu código aqui..."
      ]
    },
    {
      "cell_type": "markdown",
      "metadata": {
        "id": "NWJ9HcrRc1Qh"
      },
      "source": [
        "10- Numa eleição existem três candidatos. Faça um programa que peça o número total de eleitores. Peça para cada eleitor votar e ao final mostrar o número de votos de cada candidato."
      ]
    },
    {
      "cell_type": "code",
      "execution_count": null,
      "metadata": {
        "id": "0p-RQr8Xc68K"
      },
      "outputs": [],
      "source": [
        "# seu código aqui..."
      ]
    }
  ],
  "metadata": {
    "colab": {
      "provenance": [],
      "include_colab_link": true
    },
    "kernelspec": {
      "display_name": "Python 3",
      "name": "python3"
    },
    "language_info": {
      "name": "python"
    }
  },
  "nbformat": 4,
  "nbformat_minor": 0
}